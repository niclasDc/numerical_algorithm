{
 "cells": [
  {
   "cell_type": "code",
   "id": "initial_id",
   "metadata": {
    "collapsed": true,
    "ExecuteTime": {
     "end_time": "2024-05-05T20:19:59.004007Z",
     "start_time": "2024-05-05T20:19:58.524131Z"
    }
   },
   "source": [
    "# Librerias a usar\n",
    "import numpy as np"
   ],
   "outputs": [],
   "execution_count": 1
  },
  {
   "metadata": {
    "ExecuteTime": {
     "end_time": "2024-05-05T20:19:59.016431Z",
     "start_time": "2024-05-05T20:19:59.007009Z"
    }
   },
   "cell_type": "code",
   "source": [
    "# Transforma el sistema Ax = b al sistema x = Ty + c\n",
    "def transformar_sistema(A, b):\n",
    "    # Inicializar la matriz de transformación T\n",
    "    T = np.zeros_like(A, dtype=float)\n",
    "\n",
    "    # Iterar sobre las filas de la matriz A\n",
    "    for i in range(len(A)):\n",
    "        # Seleccionar la fila actual y los elementos de la diagonal\n",
    "        fila_actual = A[i]\n",
    "        diag_element = fila_actual[i]\n",
    "\n",
    "        # Despejar xi de la ecuación correspondiente\n",
    "        for j in range(len(fila_actual)):\n",
    "            if j != i:\n",
    "                T[i][j] = -fila_actual[j] / diag_element\n",
    "\n",
    "        T[i][i] = 0\n",
    "\n",
    "    c = b / np.diag(A)\n",
    "    return T, c"
   ],
   "id": "150a1638878dcbf5",
   "outputs": [],
   "execution_count": 2
  },
  {
   "metadata": {
    "ExecuteTime": {
     "end_time": "2024-05-05T20:19:59.075035Z",
     "start_time": "2024-05-05T20:19:59.054970Z"
    }
   },
   "cell_type": "code",
   "source": [
    "def metodo_gauss(T, c, v_0, tol, n_iteration, norm):\n",
    "    \n",
    "    norm_xk = 0\n",
    "    norm_xk_v0 = 0\n",
    "    error = np.array([0])\n",
    "    table_xk = np.array([v_0])\n",
    "\n",
    "    for n in range(n_iteration):\n",
    "\n",
    "        xk = np.zeros_like(c, dtype=float)\n",
    "        # Calculo del vector x_k\n",
    "        for i in range(len(T)):\n",
    "\n",
    "            if i == 0:\n",
    "                xk[i] = np.round(np.dot(T[i, :], v_0) + c[i], 4)\n",
    "            elif i == len(T) - 1:\n",
    "                xk[i] = np.round(np.dot(T[i, :], xk), 4) + np.round(c[i], 4)\n",
    "            else:\n",
    "                xk[i] = np.round(np.round(np.dot(T[i, :i], xk[:i]), 4) + np.round(np.dot(T[i, i + 1:], v_0[i + 1:]),\n",
    "                                                                                  4) + np.round(c[i], 4), 4)\n",
    "\n",
    "        if norm == 1:\n",
    "            norm_xk_v0 = np.linalg.norm(xk - v_0, np.inf)\n",
    "            norm_xk = np.linalg.norm(xk, np.inf)\n",
    "        if norm == 2:\n",
    "            norm_xk_v0 = np.linalg.norm(xk - v_0)\n",
    "            norm_xk = np.linalg.norm(xk)\n",
    "\n",
    "        error = np.append(error, norm_xk_v0 / norm_xk)\n",
    "\n",
    "        table_xk = np.append(table_xk, [xk])\n",
    "\n",
    "        v_0 = xk\n",
    "\n",
    "        if error[n + 1] < tol:\n",
    "            return table_xk.reshape(n + 2, len(T)).transpose(), error\n",
    "\n",
    "    return table_xk.reshape(n_iteration + 1, len(T)).transpose(), error\n"
   ],
   "id": "e257a484bb48f2f7",
   "outputs": [],
   "execution_count": 5
  },
  {
   "metadata": {},
   "cell_type": "code",
   "outputs": [
    {
     "name": "stdout",
     "output_type": "stream",
     "text": [
      "El sistema Ax = b:\n",
      "[[10 -1  2  0]\n",
      " [-1 11 -1  3]\n",
      " [ 2 -1 10 -1]\n",
      " [ 0  3 -1  8]] = \n",
      "[[  6]\n",
      " [ 25]\n",
      " [-11]\n",
      " [ 15]]\n",
      "\n",
      "El vector inicial es:\n",
      "[0 0 0 0]\n"
     ]
    }
   ],
   "execution_count": 3,
   "source": [
    "# Definición del sistema lineal a resolver y el vector inicial v_0\n",
    "\n",
    "Ax_b = np.array([[10, -1, 2, 0, 6],\n",
    "                 [-1, 11, -1, 3, 25],\n",
    "                 [2, -1, 10, -1, -11],\n",
    "                 [0, 3, -1, 8, 15]])\n",
    "v_0 = np.array([0, 0, 0, 0])\n",
    "print(f'El sistema Ax = b:\\n{Ax_b[:, :-1]} = \\n{Ax_b[:, -1].reshape((4, 1))}\\n\\nEl vector inicial es:\\n{v_0}')"
   ],
   "id": "dedbe8d8f4c0921e"
  },
  {
   "metadata": {},
   "cell_type": "code",
   "outputs": [
    {
     "name": "stdout",
     "output_type": "stream",
     "text": [
      "La transformación x=Ty+c es definida por T:\n",
      "[[ 0.          0.1        -0.2         0.        ]\n",
      " [ 0.09090909  0.          0.09090909 -0.27272727]\n",
      " [-0.2         0.1         0.          0.1       ]\n",
      " [ 0.         -0.375       0.125       0.        ]]\n",
      "El vector c:\n",
      "[ 0.6         2.27272727 -1.1         1.875     ]\n"
     ]
    }
   ],
   "execution_count": 4,
   "source": [
    "# Sacamos su transformación x = Ty + c\n",
    "T, c = transformar_sistema(Ax_b[:, :-1], Ax_b[:, -1])\n",
    "print(f'La transformación x=Ty+c es definida por T:\\n{T}\\nEl vector c:\\n{c}')"
   ],
   "id": "76b5620e4cff2cf0"
  },
  {
   "metadata": {
    "ExecuteTime": {
     "end_time": "2024-05-05T20:19:59.152844Z",
     "start_time": "2024-05-05T20:19:59.079047Z"
    }
   },
   "cell_type": "code",
   "source": [
    "table_xk, error = metodo_gauss(T, c, v_0, tol=10 ** (-3), n_iteration=10, norm=1)\n",
    "table_xk"
   ],
   "id": "d9d9a8bb2d23398c",
   "outputs": [
    {
     "data": {
      "text/plain": [
       "array([[ 0.    ,  0.6   ,  1.0302,  1.0066,  1.0009,  1.0001],\n",
       "       [ 0.    ,  2.3272,  2.0369,  2.0035,  2.0003,  2.    ],\n",
       "       [ 0.    , -0.9873, -1.0144, -1.0026, -1.0003, -1.    ],\n",
       "       [ 0.    ,  0.8789,  0.9844,  0.9984,  0.9998,  1.    ]])"
      ]
     },
     "execution_count": 6,
     "metadata": {},
     "output_type": "execute_result"
    }
   ],
   "execution_count": 6
  },
  {
   "metadata": {
    "ExecuteTime": {
     "end_time": "2024-05-05T20:19:59.163432Z",
     "start_time": "2024-05-05T20:19:59.154357Z"
    }
   },
   "cell_type": "code",
   "source": "error",
   "id": "5a06c1eab7dc9092",
   "outputs": [
    {
     "data": {
      "text/plain": [
       "array([0.00000000e+00, 1.00000000e+00, 2.11203299e-01, 1.66708261e-02,\n",
       "       2.84957256e-03, 4.00000000e-04])"
      ]
     },
     "execution_count": 7,
     "metadata": {},
     "output_type": "execute_result"
    }
   ],
   "execution_count": 7
  }
 ],
 "metadata": {
  "kernelspec": {
   "display_name": "Python 3",
   "language": "python",
   "name": "python3"
  },
  "language_info": {
   "codemirror_mode": {
    "name": "ipython",
    "version": 2
   },
   "file_extension": ".py",
   "mimetype": "text/x-python",
   "name": "python",
   "nbconvert_exporter": "python",
   "pygments_lexer": "ipython2",
   "version": "2.7.6"
  }
 },
 "nbformat": 4,
 "nbformat_minor": 5
}
