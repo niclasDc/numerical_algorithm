{
 "cells": [
  {
   "cell_type": "code",
   "id": "initial_id",
   "metadata": {
    "collapsed": true,
    "ExecuteTime": {
     "end_time": "2024-05-01T18:03:51.568320Z",
     "start_time": "2024-05-01T18:03:51.366513Z"
    }
   },
   "source": "import numpy as np",
   "outputs": [],
   "execution_count": 1
  },
  {
   "metadata": {
    "ExecuteTime": {
     "end_time": "2024-05-01T18:03:51.579374Z",
     "start_time": "2024-05-01T18:03:51.570318Z"
    }
   },
   "cell_type": "code",
   "source": [
    "# Transforma el sistema Ax = b al sistema Tx = c\n",
    "def transformar_sistema(A, b):\n",
    "    # Inicializar la matriz de transformación T\n",
    "    T = np.zeros_like(A, dtype=float)\n",
    "\n",
    "    # Iterar sobre las filas de la matriz A\n",
    "    for i in range(len(A)):\n",
    "        # Seleccionar la fila actual y los elementos de la diagonal\n",
    "        fila_actual = A[i]\n",
    "        diag_element = fila_actual[i]\n",
    "\n",
    "        # Despejar xi de la ecuación correspondiente\n",
    "        for j in range(len(fila_actual)):\n",
    "            if j != i:\n",
    "                T[i][j] = -fila_actual[j] / diag_element\n",
    "\n",
    "        T[i][i] = 0\n",
    "\n",
    "    c = b / np.diag(A)\n",
    "    return T, c"
   ],
   "id": "ab8ba824e875f8ee",
   "outputs": [],
   "execution_count": 2
  },
  {
   "metadata": {
    "ExecuteTime": {
     "end_time": "2024-05-01T18:03:51.590600Z",
     "start_time": "2024-05-01T18:03:51.581372Z"
    }
   },
   "cell_type": "code",
   "source": [
    "# Definición de la función para el método Jacobi\n",
    "\n",
    "def met_jacobi(T, c, v_0, tol, n_iteration, norm):\n",
    "    norm_vk = 0\n",
    "    norm_v0_vk = 0\n",
    "    error = 0\n",
    "    table_vk = np.array([v_0])\n",
    "    for i in range(0, n_iteration):\n",
    "        # Matriz por vector para hallar el vector k-ésimo\n",
    "\n",
    "        v_k = np.round(np.dot(T, v_0) + c, 4)\n",
    "\n",
    "        # Calculo de la norma\n",
    "        if norm == 1:\n",
    "            norm_v0_vk = np.linalg.norm(v_k - v_0, np.inf)\n",
    "            norm_vk = np.linalg.norm(v_k, np.inf)\n",
    "        elif norm == 2:\n",
    "            norm_v0_vk = np.linalg.norm(v_k - v_0)\n",
    "            norm_vk = np.linalg.norm(v_k)\n",
    "\n",
    "        # Calculo del error relativo\n",
    "        error = norm_v0_vk / norm_vk\n",
    "        v_0 = v_k\n",
    "        table_vk = np.append(table_vk, [v_k])\n",
    "        if error <= tol:\n",
    "            return table_vk.reshape(i + 2, len(T)).transpose(), error\n",
    "\n",
    "    return table_vk.reshape(n_iteration + 1, len(T)).transpose(), error"
   ],
   "id": "777508bc80d30b8",
   "outputs": [],
   "execution_count": 3
  },
  {
   "metadata": {
    "ExecuteTime": {
     "end_time": "2024-05-01T18:03:51.600874Z",
     "start_time": "2024-05-01T18:03:51.592598Z"
    }
   },
   "cell_type": "code",
   "source": [
    "# Definición del sistema lineal a resolver y el vector inicial v_0\n",
    "\n",
    "Ax_b = np.array([[10, -1, 2, 0, 6],\n",
    "                 [-1, 11, -1, 3, 25],\n",
    "                 [2, -1, 10, -1, -11],\n",
    "                 [0, 3, -1, 8, 15]])\n",
    "v_0 = np.array([0, 0, 0, 0])\n",
    "print(f'El sistema Ax = b:\\n{Ax_b[:, :-1]} = \\n{Ax_b[:, -1].reshape((4, 1))}\\n\\nEl vector inicial es:\\n{v_0}')"
   ],
   "id": "c6adac54a5b40109",
   "outputs": [
    {
     "name": "stdout",
     "output_type": "stream",
     "text": [
      "El sitema Ax = b:\n",
      "[[10 -1  2  0]\n",
      " [-1 11 -1  3]\n",
      " [ 2 -1 10 -1]\n",
      " [ 0  3 -1  8]] = \n",
      "[[  6]\n",
      " [ 25]\n",
      " [-11]\n",
      " [ 15]]\n",
      "\n",
      "El vector inicial es:\n",
      "[0 0 0 0]\n"
     ]
    }
   ],
   "execution_count": 4
  },
  {
   "metadata": {
    "ExecuteTime": {
     "end_time": "2024-05-01T18:03:51.614723Z",
     "start_time": "2024-05-01T18:03:51.603875Z"
    }
   },
   "cell_type": "code",
   "source": [
    "# Sacamos su transformación Tx = c\n",
    "T, c = transformar_sistema(Ax_b[:, :-1], Ax_b[:, -1])\n",
    "c"
   ],
   "id": "97df8cbaf090a34",
   "outputs": [
    {
     "data": {
      "text/plain": [
       "array([ 0.6       ,  2.27272727, -1.1       ,  1.875     ])"
      ]
     },
     "execution_count": 5,
     "metadata": {},
     "output_type": "execute_result"
    }
   ],
   "execution_count": 5
  },
  {
   "metadata": {
    "ExecuteTime": {
     "end_time": "2024-05-01T18:03:51.625197Z",
     "start_time": "2024-05-01T18:03:51.616721Z"
    }
   },
   "cell_type": "code",
   "source": [
    "table_vk, error = met_jacobi(T, c, v_0, tol=10 ** (-3), n_iteration=10, norm=1)\n",
    "table_vk"
   ],
   "id": "fe535043a9c102b5",
   "outputs": [
    {
     "data": {
      "text/plain": [
       "array([[ 0.    ,  0.6   ,  1.0473,  0.9326,  1.0152,  0.989 ,  1.0032,\n",
       "         0.9981,  1.0006,  0.9997],\n",
       "       [ 0.    ,  2.2727,  1.7159,  2.0533,  1.9537,  2.0114,  1.9922,\n",
       "         2.0023,  1.9987,  2.0004],\n",
       "       [ 0.    , -1.1   , -0.8052, -1.0494, -0.9681, -1.0103, -0.9945,\n",
       "        -1.002 , -0.999 , -1.0004],\n",
       "       [ 0.    ,  1.875 ,  0.8852,  1.1309,  0.9738,  1.0214,  0.9944,\n",
       "         1.0036,  0.9989,  1.0006]])"
      ]
     },
     "execution_count": 6,
     "metadata": {},
     "output_type": "execute_result"
    }
   ],
   "execution_count": 6
  },
  {
   "metadata": {
    "ExecuteTime": {
     "end_time": "2024-05-01T18:03:51.634744Z",
     "start_time": "2024-05-01T18:03:51.626189Z"
    }
   },
   "cell_type": "code",
   "source": [
    "table_vk, error = met_jacobi(T, c, v_0, tol=10 ** (-3), n_iteration=11, norm=2)\n",
    "table_vk"
   ],
   "id": "d42b20620699ef2",
   "outputs": [
    {
     "data": {
      "text/plain": [
       "array([[ 0.    ,  0.6   ,  1.0473,  0.9326,  1.0152,  0.989 ,  1.0032,\n",
       "         0.9981,  1.0006,  0.9997,  1.0001],\n",
       "       [ 0.    ,  2.2727,  1.7159,  2.0533,  1.9537,  2.0114,  1.9922,\n",
       "         2.0023,  1.9987,  2.0004,  1.9998],\n",
       "       [ 0.    , -1.1   , -0.8052, -1.0494, -0.9681, -1.0103, -0.9945,\n",
       "        -1.002 , -0.999 , -1.0004, -0.9998],\n",
       "       [ 0.    ,  1.875 ,  0.8852,  1.1309,  0.9738,  1.0214,  0.9944,\n",
       "         1.0036,  0.9989,  1.0006,  0.9998]])"
      ]
     },
     "execution_count": 7,
     "metadata": {},
     "output_type": "execute_result"
    }
   ],
   "execution_count": 7
  },
  {
   "metadata": {
    "ExecuteTime": {
     "end_time": "2024-05-01T18:03:51.647147Z",
     "start_time": "2024-05-01T18:03:51.636741Z"
    }
   },
   "cell_type": "code",
   "source": [
    "# Tomemos el vector inicial \n",
    "v_0 = np.array([1, 2, 1, 2])\n",
    "table_vk, error = met_jacobi(T, c, v_0, tol=10 ** (-3), n_iteration=11, norm=1)\n",
    "table_vk"
   ],
   "id": "467cdf6a1c99c9f0",
   "outputs": [
    {
     "data": {
      "text/plain": [
       "array([[ 1.    ,  0.6   ,  0.9709,  0.9713,  0.9992,  0.9965,  1.0002,\n",
       "         0.9995,  1.0001],\n",
       "       [ 2.    ,  1.9091,  1.9045,  1.9934,  1.9844,  2.0001,  1.9976,\n",
       "         2.0002,  1.9996],\n",
       "       [ 1.    , -0.9   , -0.9041, -0.9991, -0.9901, -1.0011, -0.9986,\n",
       "        -1.0003, -0.9998],\n",
       "       [ 2.    ,  1.25  ,  1.0466,  1.0478,  1.0026,  1.0071,  0.9998,\n",
       "         1.0011,  0.9999]])"
      ]
     },
     "execution_count": 8,
     "metadata": {},
     "output_type": "execute_result"
    }
   ],
   "execution_count": 8
  }
 ],
 "metadata": {
  "kernelspec": {
   "display_name": "Python 3",
   "language": "python",
   "name": "python3"
  },
  "language_info": {
   "codemirror_mode": {
    "name": "ipython",
    "version": 2
   },
   "file_extension": ".py",
   "mimetype": "text/x-python",
   "name": "python",
   "nbconvert_exporter": "python",
   "pygments_lexer": "ipython2",
   "version": "2.7.6"
  }
 },
 "nbformat": 4,
 "nbformat_minor": 5
}
